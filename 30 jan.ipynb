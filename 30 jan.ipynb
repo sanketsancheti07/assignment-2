{
 "cells": [
  {
   "cell_type": "markdown",
   "id": "9c323488-9977-46e4-9fc8-e080e89bdac1",
   "metadata": {},
   "source": [
    "Q.1 solution"
   ]
  },
  {
   "cell_type": "code",
   "execution_count": 8,
   "id": "df701161-fb5f-421a-82b3-e61c3e49ff2f",
   "metadata": {},
   "outputs": [
    {
     "name": "stdin",
     "output_type": "stream",
     "text": [
      "enter your marks 59\n"
     ]
    },
    {
     "name": "stdout",
     "output_type": "stream",
     "text": [
      "grade D\n"
     ]
    }
   ],
   "source": [
    "marks = int(input(\"enter your marks\"))\n",
    "if marks >90:\n",
    "    print(\"grade A\")\n",
    "elif marks >80 and marks <=90:\n",
    "    print(\"grade B\")\n",
    "elif marks >=60 and marks <=80:\n",
    "    print(\"grade C\")\n",
    "else:\n",
    "    print(\"grade D\")"
   ]
  },
  {
   "cell_type": "markdown",
   "id": "18365e38-3cba-4c8b-9dd2-c15179645cf2",
   "metadata": {},
   "source": [
    "Q.2 solution"
   ]
  },
  {
   "cell_type": "code",
   "execution_count": 11,
   "id": "a008b40b-66d6-4ac4-a081-98976b07c5e3",
   "metadata": {},
   "outputs": [
    {
     "name": "stdin",
     "output_type": "stream",
     "text": [
      "enter the cost price of a bike 49000\n"
     ]
    },
    {
     "name": "stdout",
     "output_type": "stream",
     "text": [
      "5%\n"
     ]
    }
   ],
   "source": [
    "cost = int(input(\"enter the cost price of a bike\"))\n",
    "if cost > 100000:\n",
    "           print(\"15%\")\n",
    "elif cost >50000 and cost <=100000:\n",
    "           print(\"10%\")\n",
    "else :\n",
    "           print(\"5%\")"
   ]
  },
  {
   "cell_type": "markdown",
   "id": "799a8c5d-8960-453c-914c-5a22c27f1019",
   "metadata": {},
   "source": [
    "Q.3 Solution"
   ]
  },
  {
   "cell_type": "code",
   "execution_count": 13,
   "id": "921616cd-0dce-4795-8f0b-3c6a80bb8590",
   "metadata": {},
   "outputs": [
    {
     "name": "stdin",
     "output_type": "stream",
     "text": [
      "enter your city Jaipur\n"
     ]
    },
    {
     "name": "stdout",
     "output_type": "stream",
     "text": [
      "Jal Mahal\n"
     ]
    }
   ],
   "source": [
    "city = input(\"enter your city\")\n",
    "if city == \"Delhi\":\n",
    "    print(\"Red Fort\")\n",
    "elif city == \"Agra\":\n",
    "    print(\"Taj Mahal\")\n",
    "elif city == \"Jaipur\":\n",
    "    print(\"Jal Mahal\")\n"
   ]
  },
  {
   "cell_type": "markdown",
   "id": "abeba998-5bfb-4a10-96be-60e9bc1192e2",
   "metadata": {},
   "source": [
    "Q.4 solution"
   ]
  },
  {
   "cell_type": "code",
   "execution_count": 19,
   "id": "99b818d4-edf5-49ff-b896-01218aee68e5",
   "metadata": {},
   "outputs": [
    {
     "name": "stdin",
     "output_type": "stream",
     "text": [
      "enter the number 100\n"
     ]
    },
    {
     "name": "stdout",
     "output_type": "stream",
     "text": [
      "3\n"
     ]
    }
   ],
   "source": [
    "num = int(input(\"enter the number\"))\n",
    "count = 0\n",
    "while num >10:\n",
    "    num = num /3\n",
    "    count = count + 1\n",
    "print(count)\n"
   ]
  },
  {
   "cell_type": "markdown",
   "id": "fa3d0324-66ec-4634-b208-90498b58b768",
   "metadata": {},
   "source": [
    "Q.5 solution"
   ]
  },
  {
   "cell_type": "code",
   "execution_count": 25,
   "id": "6b763324-0ac2-48e9-9098-5b3cb59d1d65",
   "metadata": {},
   "outputs": [
    {
     "name": "stdout",
     "output_type": "stream",
     "text": [
      "1\n",
      "2\n",
      "3\n",
      "4\n",
      "5\n",
      "6\n",
      "7\n",
      "8\n",
      "9\n",
      "10\n"
     ]
    }
   ],
   "source": [
    "'''We use while loop for printing repaeted series of block of code n number of times\n",
    "just example, if we want to print number between 1 to 10 we use while loop.'''\n",
    "n=1\n",
    "while n <= 10:\n",
    "    print(n)\n",
    "    n = n+1"
   ]
  },
  {
   "cell_type": "markdown",
   "id": "c4ec4d90-345c-4b21-b4ff-977db97a40f3",
   "metadata": {},
   "source": [
    "Q.6 solution"
   ]
  },
  {
   "cell_type": "code",
   "execution_count": 2,
   "id": "f362c82c-00b5-47ca-a16d-c1d90f09a96a",
   "metadata": {},
   "outputs": [
    {
     "name": "stdout",
     "output_type": "stream",
     "text": [
      "* \n",
      "* * \n",
      "* * * \n",
      "* * * * \n",
      "* * * * * \n"
     ]
    }
   ],
   "source": [
    "i=1\n",
    "while i<=5:\n",
    "    j=1\n",
    "    while j<=i:\n",
    "        print(\"*\",end=\" \")\n",
    "        j=j+1\n",
    "    print(\"\")\n",
    "    i=i+1"
   ]
  },
  {
   "cell_type": "markdown",
   "id": "5f9deb2e-2e64-4714-9ad3-d4ec7bad1937",
   "metadata": {},
   "source": [
    "Q.7 and 8 Solution"
   ]
  },
  {
   "cell_type": "code",
   "execution_count": 2,
   "id": "bf1a383d-8b4f-4ce4-ac07-b679e1124081",
   "metadata": {},
   "outputs": [
    {
     "name": "stdout",
     "output_type": "stream",
     "text": [
      "10\n",
      "9\n",
      "8\n",
      "7\n",
      "6\n",
      "5\n",
      "4\n",
      "3\n",
      "2\n",
      "1\n"
     ]
    }
   ],
   "source": [
    "num = 10\n",
    "while num>=1:\n",
    "    print(num)\n",
    "    num =num-1"
   ]
  },
  {
   "cell_type": "code",
   "execution_count": null,
   "id": "53e53e4b-3b2d-49e1-bb4d-c0edbed2366f",
   "metadata": {},
   "outputs": [],
   "source": []
  }
 ],
 "metadata": {
  "kernelspec": {
   "display_name": "Python 3 (ipykernel)",
   "language": "python",
   "name": "python3"
  },
  "language_info": {
   "codemirror_mode": {
    "name": "ipython",
    "version": 3
   },
   "file_extension": ".py",
   "mimetype": "text/x-python",
   "name": "python",
   "nbconvert_exporter": "python",
   "pygments_lexer": "ipython3",
   "version": "3.10.8"
  }
 },
 "nbformat": 4,
 "nbformat_minor": 5
}
